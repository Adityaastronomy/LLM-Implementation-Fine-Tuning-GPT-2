{
 "cells": [
  {
   "cell_type": "code",
   "execution_count": 40,
   "metadata": {},
   "outputs": [],
   "source": [
    "import torch\n",
    "import tiktoken\n"
   ]
  },
  {
   "cell_type": "code",
   "execution_count": 41,
   "metadata": {},
   "outputs": [
    {
     "name": "stdout",
     "output_type": "stream",
     "text": [
      "[15496, 2159, 220]\n"
     ]
    }
   ],
   "source": [
    "tokenizer = tiktoken.get_encoding( \"gpt2\" )\n",
    "text = ( \"Hello World \")\n",
    "integers = tokenizer.encode( text )\n",
    "print ( integers ) "
   ]
  },
  {
   "cell_type": "code",
   "execution_count": 42,
   "metadata": {},
   "outputs": [],
   "source": [
    "import torch \n",
    "import torch.nn as nn"
   ]
  },
  {
   "cell_type": "code",
   "execution_count": 43,
   "metadata": {},
   "outputs": [],
   "source": [
    "### Layer Normalisation and Feed Forward Neural Network\n",
    "class LayerNorm( nn.Module ):\n",
    "    def __init__( self , emb_dim ):\n",
    "        super().__init__()\n",
    "        self.eps = 1e-5\n",
    "        self.scale = nn.Parameter( torch.ones( emb_dim ))\n",
    "        self.shift = nn.Parameter( torch.zeros( emb_dim ))\n",
    "\n",
    "\n",
    "    def forward( self , x ):\n",
    "        mean = x.mean( dim = -1 , keepdim = True )\n",
    "        var = x.var( dim = -1 , keepdim = True , unbiased = True )\n",
    "        norm_x = ( x - mean ) / torch.sqrt( var + self.eps )\n",
    "        return self.scale * norm_x + self.shift\n",
    "    \n",
    "\n",
    "class GELU( nn.Module ):\n",
    "    def __init__( self  ):\n",
    "        super().__init__()\n",
    "\n",
    "    def forward( self , x ):\n",
    "        return 0.5 * x * ( 1 + torch.tanh( \n",
    "            torch.sqrt( torch.tensor( 2.0 / torch.pi )) * \n",
    "            ( x + 0.044715 * torch.pow( x , 3 )) \n",
    "        ))\n",
    "\n",
    "class FeedForward( nn.Module ):\n",
    "    def __init__( self , cfg ):\n",
    "        super().__init__()\n",
    "        self.layers = nn.Sequential(\n",
    "            nn.Linear( cfg[\"emb_dim\" ] , 4 * cfg[\"emb_dim\" ] ),\n",
    "            GELU(),\n",
    "            nn.Linear( 4 * cfg[ \"emb_dim\"] , cfg[ \"emb_dim\" ]),\n",
    "\n",
    "        )\n",
    "\n",
    "    def forward( self , x ):\n",
    "        return self.layers( x )"
   ]
  },
  {
   "cell_type": "code",
   "execution_count": 44,
   "metadata": {},
   "outputs": [],
   "source": [
    "### MutiHead Attention Mech\n",
    "class MultiHeadAttention(nn.Module):\n",
    "    def __init__(self, d_in, d_out, context_length, dropout, num_heads, qkv_bias=False):\n",
    "        super().__init__()\n",
    "        assert (d_out % num_heads == 0), \\\n",
    "            \"d_out must be divisible by num_heads\"\n",
    "\n",
    "        self.d_out = d_out\n",
    "        self.num_heads = num_heads\n",
    "        self.head_dim = d_out // num_heads # Reduce the projection dim to match desired output dim\n",
    "\n",
    "        self.W_query = nn.Linear(d_in, d_out, bias=qkv_bias)\n",
    "        self.W_key = nn.Linear(d_in, d_out, bias=qkv_bias)\n",
    "        self.W_value = nn.Linear(d_in, d_out, bias=qkv_bias)\n",
    "        self.out_proj = nn.Linear(d_out, d_out)  # Linear layer to combine head outputs\n",
    "        self.dropout = nn.Dropout(dropout)\n",
    "        self.register_buffer(\n",
    "            \"mask\",\n",
    "            torch.triu(torch.ones(context_length, context_length),\n",
    "                       diagonal=1)\n",
    "        )\n",
    "\n",
    "    def forward(self, x):\n",
    "        b, num_tokens, d_in = x.shape\n",
    "\n",
    "        keys = self.W_key(x) # Shape: (b, num_tokens, d_out)\n",
    "        queries = self.W_query(x)\n",
    "        values = self.W_value(x)\n",
    "\n",
    "        # We implicitly split the matrix by adding a `num_heads` dimension\n",
    "        # Unroll last dim: (b, num_tokens, d_out) -> (b, num_tokens, num_heads, head_dim)\n",
    "        keys = keys.view(b, num_tokens, self.num_heads, self.head_dim) \n",
    "        values = values.view(b, num_tokens, self.num_heads, self.head_dim)\n",
    "        queries = queries.view(b, num_tokens, self.num_heads, self.head_dim)\n",
    "\n",
    "        # Transpose: (b, num_tokens, num_heads, head_dim) -> (b, num_heads, num_tokens, head_dim)\n",
    "        keys = keys.transpose(1, 2)\n",
    "        queries = queries.transpose(1, 2)\n",
    "        values = values.transpose(1, 2)\n",
    "\n",
    "        # Compute scaled dot-product attention (aka self-attention) with a causal mask\n",
    "        attn_scores = queries @ keys.transpose(2, 3)  # Dot product for each head\n",
    "\n",
    "        # Original mask truncated to the number of tokens and converted to boolean\n",
    "        mask_bool = self.mask.bool()[:num_tokens, :num_tokens]\n",
    "\n",
    "        # Use the mask to fill attention scores\n",
    "        attn_scores.masked_fill_(mask_bool, -torch.inf)\n",
    "        \n",
    "        attn_weights = torch.softmax(attn_scores / keys.shape[-1]**0.5, dim=-1)\n",
    "        attn_weights = self.dropout(attn_weights)\n",
    "\n",
    "        # Shape: (b, num_tokens, num_heads, head_dim)\n",
    "        context_vec = (attn_weights @ values).transpose(1, 2) \n",
    "        \n",
    "        # Combine heads, where self.d_out = self.num_heads * self.head_dim\n",
    "        context_vec = context_vec.contiguous().view(b, num_tokens, self.d_out)\n",
    "        context_vec = self.out_proj(context_vec) # optional projection\n",
    "\n",
    "        return context_vec"
   ]
  },
  {
   "cell_type": "code",
   "execution_count": 45,
   "metadata": {},
   "outputs": [],
   "source": [
    "### Transformer Class\n",
    "class TransformerBlock( nn.Module ):\n",
    "    def __init__( self , cfg ):\n",
    "        super().__init__()\n",
    "        self.att = MultiHeadAttention( \n",
    "            d_in = cfg[ \"emb_dim\"],\n",
    "            d_out = cfg[ \"emb_dim\"],\n",
    "            context_length = cfg[ \"context_length\"],\n",
    "            num_heads = cfg[ \"n_heads\"],\n",
    "            dropout = cfg[ \"drop_rate\"],\n",
    "            qkv_bias = cfg[ \"qkv_bias\"],\n",
    "\n",
    "        )\n",
    "        self.ff = FeedForward( cfg )\n",
    "        self.norm1 = LayerNorm( cfg[ \"emb_dim\"])\n",
    "        self.norm2 = LayerNorm( cfg[ \"emb_dim\"])\n",
    "        self.drop_shortcut = nn.Dropout( cfg[\"drop_rate\"])\n",
    "\n",
    "    def forward( self , x ):\n",
    "        shortcut = x\n",
    "        x = self.norm1( x )\n",
    "        x = self.att( x )\n",
    "        x = self.drop_shortcut( x )\n",
    "        x = x + shortcut\n",
    "\n",
    "        shortcut = x\n",
    "        x = self.norm2( x )\n",
    "        x = self.ff( x )\n",
    "        x = self.drop_shortcut( x )\n",
    "        x = x + shortcut\n",
    "\n",
    "\n",
    "        return x"
   ]
  },
  {
   "cell_type": "code",
   "execution_count": 46,
   "metadata": {},
   "outputs": [],
   "source": [
    "### Now to Code the GPT Architecture\n",
    "class GPTModel( nn.Module ):\n",
    "    def __init__(self , cfg ):\n",
    "        super().__init__()\n",
    "        self.tok_emb = nn.Embedding( cfg[\"vocab_size\"] , cfg[\"emb_dim\"])\n",
    "        self.pos_emb = nn.Embedding( cfg[\"context_length\" ] , cfg[\"emb_dim\"])\n",
    "        self.drop_emb = nn.Dropout( cfg[\"drop_rate\"])\n",
    "\n",
    "        self.trf_blocks = nn.Sequential( \n",
    "            *[TransformerBlock( cfg ) for _ in range(cfg[ \"n_layers\"])])\n",
    "        \n",
    "        self.final_norm = LayerNorm( cfg[\"emb_dim\"])\n",
    "        self.out_head = nn.Linear(\n",
    "            cfg[\"emb_dim\"] , cfg[ \"vocab_size\"], bias=  False\n",
    "        )\n",
    "\n",
    "    def forward( self , in_idx ):\n",
    "        batch_size, seq_len = in_idx.shape\n",
    "        tok_embeds = self.tok_emb( in_idx )\n",
    "        pos_embeds = self.pos_emb( torch.arange( seq_len , device = in_idx.device ))\n",
    "        x = tok_embeds + pos_embeds\n",
    "        x = self.drop_emb( x )\n",
    "        x = self.trf_blocks( x )\n",
    "        x = self.final_norm( x )\n",
    "        logits = self.out_head( x )\n",
    "        return logits"
   ]
  },
  {
   "cell_type": "code",
   "execution_count": 47,
   "metadata": {},
   "outputs": [],
   "source": [
    "def text_to_token_ids( text , tokenizer ):\n",
    "    encoded = tokenizer.encode( text , allowed_special = {'<|endoftext|>'})\n",
    "    encoded_tensor = torch.tensor( encoded ).unsqueeze( 0 )\n",
    "    return encoded_tensor\n",
    "\n",
    "def token_ids_to_text( token_ids , tokenizer ):\n",
    "    flat = token_ids.squeeze( 0 )\n",
    "    return tokenizer.decode( flat.tolist())"
   ]
  },
  {
   "cell_type": "markdown",
   "metadata": {},
   "source": [
    "## Loading Pretrained weights from Open AI"
   ]
  },
  {
   "cell_type": "code",
   "execution_count": 48,
   "metadata": {},
   "outputs": [
    {
     "name": "stdout",
     "output_type": "stream",
     "text": [
      "Requirement already satisfied: tensorflow in /Library/Frameworks/Python.framework/Versions/3.12/lib/python3.12/site-packages (2.18.0)\n",
      "Requirement already satisfied: absl-py>=1.0.0 in /Library/Frameworks/Python.framework/Versions/3.12/lib/python3.12/site-packages (from tensorflow) (2.1.0)\n",
      "Requirement already satisfied: astunparse>=1.6.0 in /Library/Frameworks/Python.framework/Versions/3.12/lib/python3.12/site-packages (from tensorflow) (1.6.3)\n",
      "Requirement already satisfied: flatbuffers>=24.3.25 in /Library/Frameworks/Python.framework/Versions/3.12/lib/python3.12/site-packages (from tensorflow) (25.2.10)\n",
      "Requirement already satisfied: gast!=0.5.0,!=0.5.1,!=0.5.2,>=0.2.1 in /Library/Frameworks/Python.framework/Versions/3.12/lib/python3.12/site-packages (from tensorflow) (0.6.0)\n",
      "Requirement already satisfied: google-pasta>=0.1.1 in /Library/Frameworks/Python.framework/Versions/3.12/lib/python3.12/site-packages (from tensorflow) (0.2.0)\n",
      "Requirement already satisfied: libclang>=13.0.0 in /Library/Frameworks/Python.framework/Versions/3.12/lib/python3.12/site-packages (from tensorflow) (18.1.1)\n",
      "Requirement already satisfied: opt-einsum>=2.3.2 in /Library/Frameworks/Python.framework/Versions/3.12/lib/python3.12/site-packages (from tensorflow) (3.4.0)\n",
      "Requirement already satisfied: packaging in /Users/adityaastronomy/Library/Python/3.12/lib/python/site-packages (from tensorflow) (24.1)\n",
      "Requirement already satisfied: protobuf!=4.21.0,!=4.21.1,!=4.21.2,!=4.21.3,!=4.21.4,!=4.21.5,<6.0.0dev,>=3.20.3 in /Library/Frameworks/Python.framework/Versions/3.12/lib/python3.12/site-packages (from tensorflow) (5.29.3)\n",
      "Requirement already satisfied: requests<3,>=2.21.0 in /Library/Frameworks/Python.framework/Versions/3.12/lib/python3.12/site-packages (from tensorflow) (2.32.3)\n",
      "Requirement already satisfied: setuptools in /Library/Frameworks/Python.framework/Versions/3.12/lib/python3.12/site-packages (from tensorflow) (75.8.0)\n",
      "Requirement already satisfied: six>=1.12.0 in /Users/adityaastronomy/Library/Python/3.12/lib/python/site-packages (from tensorflow) (1.16.0)\n",
      "Requirement already satisfied: termcolor>=1.1.0 in /Library/Frameworks/Python.framework/Versions/3.12/lib/python3.12/site-packages (from tensorflow) (2.5.0)\n",
      "Requirement already satisfied: typing-extensions>=3.6.6 in /Library/Frameworks/Python.framework/Versions/3.12/lib/python3.12/site-packages (from tensorflow) (4.12.2)\n",
      "Requirement already satisfied: wrapt>=1.11.0 in /Library/Frameworks/Python.framework/Versions/3.12/lib/python3.12/site-packages (from tensorflow) (1.17.2)\n",
      "Requirement already satisfied: grpcio<2.0,>=1.24.3 in /Library/Frameworks/Python.framework/Versions/3.12/lib/python3.12/site-packages (from tensorflow) (1.70.0)\n",
      "Requirement already satisfied: tensorboard<2.19,>=2.18 in /Library/Frameworks/Python.framework/Versions/3.12/lib/python3.12/site-packages (from tensorflow) (2.18.0)\n",
      "Requirement already satisfied: keras>=3.5.0 in /Library/Frameworks/Python.framework/Versions/3.12/lib/python3.12/site-packages (from tensorflow) (3.8.0)\n",
      "Requirement already satisfied: numpy<2.1.0,>=1.26.0 in /Library/Frameworks/Python.framework/Versions/3.12/lib/python3.12/site-packages (from tensorflow) (2.0.0)\n",
      "Requirement already satisfied: h5py>=3.11.0 in /Library/Frameworks/Python.framework/Versions/3.12/lib/python3.12/site-packages (from tensorflow) (3.13.0)\n",
      "Requirement already satisfied: ml-dtypes<0.5.0,>=0.4.0 in /Library/Frameworks/Python.framework/Versions/3.12/lib/python3.12/site-packages (from tensorflow) (0.4.1)\n",
      "Requirement already satisfied: wheel<1.0,>=0.23.0 in /Library/Frameworks/Python.framework/Versions/3.12/lib/python3.12/site-packages (from astunparse>=1.6.0->tensorflow) (0.45.1)\n",
      "Requirement already satisfied: rich in /Library/Frameworks/Python.framework/Versions/3.12/lib/python3.12/site-packages (from keras>=3.5.0->tensorflow) (13.9.4)\n",
      "Requirement already satisfied: namex in /Library/Frameworks/Python.framework/Versions/3.12/lib/python3.12/site-packages (from keras>=3.5.0->tensorflow) (0.0.8)\n",
      "Requirement already satisfied: optree in /Library/Frameworks/Python.framework/Versions/3.12/lib/python3.12/site-packages (from keras>=3.5.0->tensorflow) (0.14.0)\n",
      "Requirement already satisfied: charset-normalizer<4,>=2 in /Library/Frameworks/Python.framework/Versions/3.12/lib/python3.12/site-packages (from requests<3,>=2.21.0->tensorflow) (3.4.1)\n",
      "Requirement already satisfied: idna<4,>=2.5 in /Library/Frameworks/Python.framework/Versions/3.12/lib/python3.12/site-packages (from requests<3,>=2.21.0->tensorflow) (3.10)\n",
      "Requirement already satisfied: urllib3<3,>=1.21.1 in /Library/Frameworks/Python.framework/Versions/3.12/lib/python3.12/site-packages (from requests<3,>=2.21.0->tensorflow) (2.3.0)\n",
      "Requirement already satisfied: certifi>=2017.4.17 in /Library/Frameworks/Python.framework/Versions/3.12/lib/python3.12/site-packages (from requests<3,>=2.21.0->tensorflow) (2024.12.14)\n",
      "Requirement already satisfied: markdown>=2.6.8 in /Library/Frameworks/Python.framework/Versions/3.12/lib/python3.12/site-packages (from tensorboard<2.19,>=2.18->tensorflow) (3.7)\n",
      "Requirement already satisfied: tensorboard-data-server<0.8.0,>=0.7.0 in /Library/Frameworks/Python.framework/Versions/3.12/lib/python3.12/site-packages (from tensorboard<2.19,>=2.18->tensorflow) (0.7.2)\n",
      "Requirement already satisfied: werkzeug>=1.0.1 in /Library/Frameworks/Python.framework/Versions/3.12/lib/python3.12/site-packages (from tensorboard<2.19,>=2.18->tensorflow) (3.0.3)\n",
      "Requirement already satisfied: MarkupSafe>=2.1.1 in /Library/Frameworks/Python.framework/Versions/3.12/lib/python3.12/site-packages (from werkzeug>=1.0.1->tensorboard<2.19,>=2.18->tensorflow) (2.1.5)\n",
      "Requirement already satisfied: markdown-it-py>=2.2.0 in /Library/Frameworks/Python.framework/Versions/3.12/lib/python3.12/site-packages (from rich->keras>=3.5.0->tensorflow) (3.0.0)\n",
      "Requirement already satisfied: pygments<3.0.0,>=2.13.0 in /Users/adityaastronomy/Library/Python/3.12/lib/python/site-packages (from rich->keras>=3.5.0->tensorflow) (2.18.0)\n",
      "Requirement already satisfied: mdurl~=0.1 in /Library/Frameworks/Python.framework/Versions/3.12/lib/python3.12/site-packages (from markdown-it-py>=2.2.0->rich->keras>=3.5.0->tensorflow) (0.1.2)\n",
      "Note: you may need to restart the kernel to use updated packages.\n",
      "Requirement already satisfied: tqdm in /Library/Frameworks/Python.framework/Versions/3.12/lib/python3.12/site-packages (4.67.1)\n",
      "Note: you may need to restart the kernel to use updated packages.\n",
      "zsh:1: 2.15.0 not found\n",
      "Note: you may need to restart the kernel to use updated packages.\n"
     ]
    }
   ],
   "source": [
    "## Loading Pretrained weights from Open AI\n",
    "%pip install tensorflow\n",
    "%pip install tqdm\n",
    "%pip install tensorflow>=2.15.0 tqdm>=4.66"
   ]
  },
  {
   "cell_type": "code",
   "execution_count": 49,
   "metadata": {},
   "outputs": [
    {
     "name": "stdout",
     "output_type": "stream",
     "text": [
      "Tensorflow version  2.18.0\n",
      "tqdm Version  4.67.1\n"
     ]
    }
   ],
   "source": [
    "import tensorflow as tf\n",
    "import tqdm\n",
    "\n",
    "print( \"Tensorflow version \", tf.__version__ )\n",
    "print( \"tqdm Version \", tqdm.__version__ )\n"
   ]
  },
  {
   "cell_type": "code",
   "execution_count": 50,
   "metadata": {},
   "outputs": [],
   "source": [
    "def assign( left , right ):\n",
    "    if left.shape != right.shape:\n",
    "        raise ValueError( f\"Shape mismatched. Left: { left.shape } , Right : { right.shape }\")\n",
    "    \n",
    "    return torch.nn.Parameter( torch.tensor( right ))"
   ]
  },
  {
   "cell_type": "code",
   "execution_count": 90,
   "metadata": {},
   "outputs": [],
   "source": [
    "# Now link the GPT Model class with the downloaded weights\n",
    "# import numpy as np\n",
    "\n",
    "# def load_weight_into_gpt( gpt , params ):\n",
    "#     gpt.pos_emb.weight = assign( gpt.pos_emb.weight , params[ 'wpe'])\n",
    "#     gpt.tok_emb.weight = assign( gpt.tok_emb.weight , params[ 'wte'])\n",
    "\n",
    "#     for b in range( len( params[ 'blocks'])):\n",
    "#         # weight part \n",
    "#         q_w, k_w , v_w = np.split(\n",
    "#             (params[\"blocks\"][b][\"attn\"][\"c_attn\"])[\"w\"] , 3 , axis = -1 )\n",
    "#         gpt.trf_blocks[b].att.W_query.weight = assign( gpt.trf_blocks[b].att.W_query.weight , q_w.T )\n",
    "#         gpt.trf_blocks[b].att.W_key.weight = assign(  gpt.trf_blocks[b].att.W_key.weight , k_w.T)\n",
    "#         gpt.trf_blocks[b].att.W_value.weight = assign( gpt.trf_blocks[b].att.W_value.weight , v_w.T )\n",
    "\n",
    "#         # bias part \n",
    "#         q_b , k_b , v_b = np.split(\n",
    "#             (params[\"blocks\"][b][\"attn\"][\"c_attn\"])[\"b\"] , 3 , axis = -1\n",
    "#         )\n",
    "#         gpt.trf_blocks[b].att.W_query.bias = assign( gpt.trf_blocks[b].att.W_query.bias , q_b )\n",
    "#         gpt.trf_blocks[b].att.W_key.bias = assign(  gpt.trf_blocks[b].att.W_key.bias , k_b )\n",
    "#         gpt.trf_blocks[b].att.W_value.bias = assign( gpt.trf_blocks[b].att.W_value.bias , v_b )\n",
    "\n",
    "#         # output project weight \n",
    "#         gpt.trf_blocks[b].att.out_proj.weight = assign( gpt.trf_blocks[b].att.out_proj.weight , params[\"blocks\"][b][\"attn\"][\"c_proj\"][\"w\"].T )\n",
    "#         gpt.trf_blocks[b].att.out_proj.bias = assign( gpt.trf_blocks[b].att.out_proj.bias , params[\"blocks\"][b][\"attn\"][\"c_proj\"][\"b\"] )\n",
    "\n",
    "#         # Feed Forward NN -> Fully connected layer\n",
    "#         gpt.trf_blocks[b].ff.layers[0].weight = assign( gpt.trf_blocks[b].ff.layers[0].weight , params[\"blocks\"][b][\"mlp\"][\"c_fc\"][\"w\"].T )\n",
    "#         gpt.trf_blocks[b].ff.layers[0].bias = assign( gpt.trf_blocks[b].ff.layers[0].bias , params[\"blocks\"][b][\"mlp\"][\"c_fc\"][\"b\"] )\n",
    "#         # Projection layer \n",
    "#         gpt.trf_blocks[b].ff.layers[2].weight = assign( gpt.trf_blocks[b].ff.layers[2].weight , params[\"blocks\"][b][\"mlp\"][\"c_proj\"][\"w\"].T )\n",
    "#         gpt.trf_blocks[b].ff.layers[2].bias = assign( gpt.trf_blocks[b].ff.layers[2].bias , params[\"blocks\"][b][\"mlp\"][\"c_proj\"][\"b\"] )\n",
    "\n",
    "#         # layer normalisation 1 and 2\n",
    "#         gpt.trf_blocks[b].norm1.scale = assign( gpt.trf_blocks[b].norm1.scale , params[\"blocks\"][b][\"ln_1\"][\"g\"] )\n",
    "#         gpt.trf_blocks[b].norm1.shift = assign( gpt.trf_blocks[b].norm1.shift , params[\"blocks\"][b][\"ln_1\"][\"b\"] )\n",
    "\n",
    "#         gpt.trf_blocks[b].norm2.scale = assign( gpt.trf_blocks[b].norm2.scale , params[\"blocks\"][b][\"ln_1\"][\"g\"] )\n",
    "#         gpt.trf_blocks[b].norm2.shift = assign( gpt.trf_blocks[b].norm2.shift , params[\"blocks\"][b][\"ln_1\"][\"b\"] )\n",
    "\n",
    "#     # Final parameters left affter transformer block\n",
    "#     gpt.final_norm.scale = assign( gpt.final_norm.scale , params[\"g\"] )\n",
    "#     gpt.final_norm.shift = assign( gpt.final_norm.shift , params[\"b\"] )\n",
    "#     gpt.out_head.weight = assign( gpt.out_head.weight , params[\"wte\"])\n",
    "    \n",
    "\n",
    "\n",
    "import numpy as np\n",
    "\n",
    "def load_weights_into_gpt(gpt, params):\n",
    "    gpt.pos_emb.weight = assign(gpt.pos_emb.weight, params['wpe'])\n",
    "    gpt.tok_emb.weight = assign(gpt.tok_emb.weight, params['wte'])\n",
    "    \n",
    "    for b in range(len(params[\"blocks\"])):\n",
    "        q_w, k_w, v_w = np.split(\n",
    "            (params[\"blocks\"][b][\"attn\"][\"c_attn\"])[\"w\"], 3, axis=-1)\n",
    "        gpt.trf_blocks[b].att.W_query.weight = assign(\n",
    "            gpt.trf_blocks[b].att.W_query.weight, q_w.T)\n",
    "        gpt.trf_blocks[b].att.W_key.weight = assign(\n",
    "            gpt.trf_blocks[b].att.W_key.weight, k_w.T)\n",
    "        gpt.trf_blocks[b].att.W_value.weight = assign(\n",
    "            gpt.trf_blocks[b].att.W_value.weight, v_w.T)\n",
    "\n",
    "        q_b, k_b, v_b = np.split(\n",
    "            (params[\"blocks\"][b][\"attn\"][\"c_attn\"])[\"b\"], 3, axis=-1)\n",
    "        gpt.trf_blocks[b].att.W_query.bias = assign(\n",
    "            gpt.trf_blocks[b].att.W_query.bias, q_b)\n",
    "        gpt.trf_blocks[b].att.W_key.bias = assign(\n",
    "            gpt.trf_blocks[b].att.W_key.bias, k_b)\n",
    "        gpt.trf_blocks[b].att.W_value.bias = assign(\n",
    "            gpt.trf_blocks[b].att.W_value.bias, v_b)\n",
    "\n",
    "        gpt.trf_blocks[b].att.out_proj.weight = assign(\n",
    "            gpt.trf_blocks[b].att.out_proj.weight, \n",
    "            params[\"blocks\"][b][\"attn\"][\"c_proj\"][\"w\"].T)\n",
    "        gpt.trf_blocks[b].att.out_proj.bias = assign(\n",
    "            gpt.trf_blocks[b].att.out_proj.bias, \n",
    "            params[\"blocks\"][b][\"attn\"][\"c_proj\"][\"b\"])\n",
    "\n",
    "        gpt.trf_blocks[b].ff.layers[0].weight = assign(\n",
    "            gpt.trf_blocks[b].ff.layers[0].weight, \n",
    "            params[\"blocks\"][b][\"mlp\"][\"c_fc\"][\"w\"].T)\n",
    "        gpt.trf_blocks[b].ff.layers[0].bias = assign(\n",
    "            gpt.trf_blocks[b].ff.layers[0].bias, \n",
    "            params[\"blocks\"][b][\"mlp\"][\"c_fc\"][\"b\"])\n",
    "        gpt.trf_blocks[b].ff.layers[2].weight = assign(\n",
    "            gpt.trf_blocks[b].ff.layers[2].weight, \n",
    "            params[\"blocks\"][b][\"mlp\"][\"c_proj\"][\"w\"].T)\n",
    "        gpt.trf_blocks[b].ff.layers[2].bias = assign(\n",
    "            gpt.trf_blocks[b].ff.layers[2].bias, \n",
    "            params[\"blocks\"][b][\"mlp\"][\"c_proj\"][\"b\"])\n",
    "\n",
    "        gpt.trf_blocks[b].norm1.scale = assign(\n",
    "            gpt.trf_blocks[b].norm1.scale, \n",
    "            params[\"blocks\"][b][\"ln_1\"][\"g\"])\n",
    "        gpt.trf_blocks[b].norm1.shift = assign(\n",
    "            gpt.trf_blocks[b].norm1.shift, \n",
    "            params[\"blocks\"][b][\"ln_1\"][\"b\"])\n",
    "        gpt.trf_blocks[b].norm2.scale = assign(\n",
    "            gpt.trf_blocks[b].norm2.scale, \n",
    "            params[\"blocks\"][b][\"ln_2\"][\"g\"])\n",
    "        gpt.trf_blocks[b].norm2.shift = assign(\n",
    "            gpt.trf_blocks[b].norm2.shift, \n",
    "            params[\"blocks\"][b][\"ln_2\"][\"b\"])\n",
    "\n",
    "    gpt.final_norm.scale = assign(gpt.final_norm.scale, params[\"g\"])\n",
    "    gpt.final_norm.shift = assign(gpt.final_norm.shift, params[\"b\"])\n",
    "    gpt.out_head.weight = assign(gpt.out_head.weight, params[\"wte\"])\n",
    "\n"
   ]
  },
  {
   "cell_type": "markdown",
   "metadata": {},
   "source": [
    "## Fine Tuning for Classification - Classification"
   ]
  },
  {
   "cell_type": "code",
   "execution_count": 52,
   "metadata": {},
   "outputs": [
    {
     "name": "stdout",
     "output_type": "stream",
     "text": [
      "/Users/adityaastronomy/Desktop/LLM/sms_spam_collection/SMSSpamCollection.tsv already exist, skipping the Download Part \n"
     ]
    }
   ],
   "source": [
    "## Fine Tuning for Classification - Classification\n",
    "import urllib.request\n",
    "import ssl\n",
    "import zipfile\n",
    "import os\n",
    "from pathlib import Path\n",
    "\n",
    "url = \"https://archive.ics.uci.edu/dataset/228/sms+spam+collection.zip\"\n",
    "zip_path = \"/Users/adityaastronomy/Desktop/LLM/sms_spam_collection.zip\"\n",
    "extracted_path = \"/Users/adityaastronomy/Desktop/LLM/sms_spam_collection\"\n",
    "data_file_path = Path( extracted_path ) / \"SMSSpamCollection.tsv\"\n",
    "\n",
    "def download_and_unzip_spam_data( url , zip_path , extracted_path , data_file_path ):\n",
    "    if data_file_path.exists():\n",
    "        print( f\"{ data_file_path } already exist, skipping the Download Part \")\n",
    "        return \n",
    "    \n",
    "    # create an unverifed SSL Content\n",
    "    ssl_context = ssl._create_unverified_context()\n",
    "\n",
    "    # Download the file \n",
    "    with urllib.request.urlopen( url , context = ssl_context ) as response :\n",
    "        with open( zip_path , \"wb\" ) as out_file : \n",
    "            out_file.write( response.read())\n",
    "\n",
    "    #unzipping the file\n",
    "    with zipfile.ZipFile( zip_path , \"r\" ) as zip_ref:\n",
    "        zip_ref.extractall( extracted_path )\n",
    "\n",
    "    #Add .tsv file extension \n",
    "    original_file_path = Path( extracted_path ) / \"SMSSpamCollection\"\n",
    "    os.rename( original_file_path , data_file_path )\n",
    "    print( f\"file downloaded and saved as { data_file_path }\")\n",
    "\n",
    "\n",
    "download_and_unzip_spam_data( url , zip_path , extracted_path , data_file_path )\n",
    "\n",
    "## Download this Mannually from the site \n"
   ]
  },
  {
   "cell_type": "code",
   "execution_count": 53,
   "metadata": {},
   "outputs": [
    {
     "data": {
      "text/html": [
       "<div>\n",
       "<style scoped>\n",
       "    .dataframe tbody tr th:only-of-type {\n",
       "        vertical-align: middle;\n",
       "    }\n",
       "\n",
       "    .dataframe tbody tr th {\n",
       "        vertical-align: top;\n",
       "    }\n",
       "\n",
       "    .dataframe thead th {\n",
       "        text-align: right;\n",
       "    }\n",
       "</style>\n",
       "<table border=\"1\" class=\"dataframe\">\n",
       "  <thead>\n",
       "    <tr style=\"text-align: right;\">\n",
       "      <th></th>\n",
       "      <th>Labels</th>\n",
       "      <th>Text</th>\n",
       "    </tr>\n",
       "  </thead>\n",
       "  <tbody>\n",
       "    <tr>\n",
       "      <th>0</th>\n",
       "      <td>ham</td>\n",
       "      <td>Go until jurong point, crazy.. Available only ...</td>\n",
       "    </tr>\n",
       "    <tr>\n",
       "      <th>1</th>\n",
       "      <td>ham</td>\n",
       "      <td>Ok lar... Joking wif u oni...</td>\n",
       "    </tr>\n",
       "    <tr>\n",
       "      <th>2</th>\n",
       "      <td>spam</td>\n",
       "      <td>Free entry in 2 a wkly comp to win FA Cup fina...</td>\n",
       "    </tr>\n",
       "    <tr>\n",
       "      <th>3</th>\n",
       "      <td>ham</td>\n",
       "      <td>U dun say so early hor... U c already then say...</td>\n",
       "    </tr>\n",
       "    <tr>\n",
       "      <th>4</th>\n",
       "      <td>ham</td>\n",
       "      <td>Nah I don't think he goes to usf, he lives aro...</td>\n",
       "    </tr>\n",
       "    <tr>\n",
       "      <th>...</th>\n",
       "      <td>...</td>\n",
       "      <td>...</td>\n",
       "    </tr>\n",
       "    <tr>\n",
       "      <th>5567</th>\n",
       "      <td>spam</td>\n",
       "      <td>This is the 2nd time we have tried 2 contact u...</td>\n",
       "    </tr>\n",
       "    <tr>\n",
       "      <th>5568</th>\n",
       "      <td>ham</td>\n",
       "      <td>Will ü b going to esplanade fr home?</td>\n",
       "    </tr>\n",
       "    <tr>\n",
       "      <th>5569</th>\n",
       "      <td>ham</td>\n",
       "      <td>Pity, * was in mood for that. So...any other s...</td>\n",
       "    </tr>\n",
       "    <tr>\n",
       "      <th>5570</th>\n",
       "      <td>ham</td>\n",
       "      <td>The guy did some bitching but I acted like i'd...</td>\n",
       "    </tr>\n",
       "    <tr>\n",
       "      <th>5571</th>\n",
       "      <td>ham</td>\n",
       "      <td>Rofl. Its true to its name</td>\n",
       "    </tr>\n",
       "  </tbody>\n",
       "</table>\n",
       "<p>5572 rows × 2 columns</p>\n",
       "</div>"
      ],
      "text/plain": [
       "     Labels                                               Text\n",
       "0       ham  Go until jurong point, crazy.. Available only ...\n",
       "1       ham                      Ok lar... Joking wif u oni...\n",
       "2      spam  Free entry in 2 a wkly comp to win FA Cup fina...\n",
       "3       ham  U dun say so early hor... U c already then say...\n",
       "4       ham  Nah I don't think he goes to usf, he lives aro...\n",
       "...     ...                                                ...\n",
       "5567   spam  This is the 2nd time we have tried 2 contact u...\n",
       "5568    ham               Will ü b going to esplanade fr home?\n",
       "5569    ham  Pity, * was in mood for that. So...any other s...\n",
       "5570    ham  The guy did some bitching but I acted like i'd...\n",
       "5571    ham                         Rofl. Its true to its name\n",
       "\n",
       "[5572 rows x 2 columns]"
      ]
     },
     "execution_count": 53,
     "metadata": {},
     "output_type": "execute_result"
    }
   ],
   "source": [
    "# %pip install pandas\n",
    "import pandas as pd\n",
    "df = pd.read_csv( data_file_path , sep = \"\\t\" , header = None , names = [\"Labels\" , \"Text\"])\n",
    "df"
   ]
  },
  {
   "cell_type": "code",
   "execution_count": 54,
   "metadata": {},
   "outputs": [
    {
     "name": "stdout",
     "output_type": "stream",
     "text": [
      "Labels\n",
      "ham     4825\n",
      "spam     747\n",
      "Name: count, dtype: int64\n"
     ]
    }
   ],
   "source": [
    "print( df[\"Labels\"].value_counts())"
   ]
  },
  {
   "cell_type": "code",
   "execution_count": 55,
   "metadata": {},
   "outputs": [
    {
     "name": "stdout",
     "output_type": "stream",
     "text": [
      "Labels\n",
      "ham     747\n",
      "spam    747\n",
      "Name: count, dtype: int64\n",
      "     Labels                                               Text\n",
      "4307    ham  Awww dat is sweet! We can think of something t...\n",
      "4138    ham                             Just got to  &lt;#&gt;\n",
      "4831    ham  The word \"Checkmate\" in chess comes from the P...\n",
      "4461    ham  This is wishing you a great day. Moji told me ...\n",
      "5440    ham      Thank you. do you generally date the brothas?\n",
      "...     ...                                                ...\n",
      "5537   spam  Want explicit SEX in 30 secs? Ring 02073162414...\n",
      "5540   spam  ASKED 3MOBILE IF 0870 CHATLINES INCLU IN FREE ...\n",
      "5547   spam  Had your contract mobile 11 Mnths? Latest Moto...\n",
      "5566   spam  REMINDER FROM O2: To get 2.50 pounds free call...\n",
      "5567   spam  This is the 2nd time we have tried 2 contact u...\n",
      "\n",
      "[1494 rows x 2 columns]\n"
     ]
    }
   ],
   "source": [
    "# This is imbalance data set , now lets make it a balanced data set \n",
    "# so we randomly take 747 data ebtries from spam and no spam part \n",
    "\n",
    "def create_balanced_dataset( df ):\n",
    "\n",
    "    num_spam = df[df[\"Labels\"] == \"spam\"].shape[0]\n",
    "\n",
    "    # Randomly select \n",
    "    ham_subset = df[ df[\"Labels\"] == \"ham\"].sample( num_spam , random_state = 123 )\n",
    "\n",
    "    balanced_df = pd.concat( [ ham_subset , df[df[\"Labels\"] == \"spam\"]])\n",
    "\n",
    "    return balanced_df \n",
    "\n",
    "balanced_df = create_balanced_dataset( df )\n",
    "print( balanced_df[\"Labels\"].value_counts())\n",
    "print( balanced_df )"
   ]
  },
  {
   "cell_type": "code",
   "execution_count": 56,
   "metadata": {},
   "outputs": [],
   "source": [
    "balanced_df[\"Labels\"] = balanced_df[\"Labels\"].map( { \"ham\" : 0 , \"spam\" : 1 })"
   ]
  },
  {
   "cell_type": "code",
   "execution_count": 57,
   "metadata": {},
   "outputs": [
    {
     "name": "stdout",
     "output_type": "stream",
     "text": [
      "      Labels                                               Text\n",
      "4307       0  Awww dat is sweet! We can think of something t...\n",
      "4138       0                             Just got to  &lt;#&gt;\n",
      "4831       0  The word \"Checkmate\" in chess comes from the P...\n",
      "4461       0  This is wishing you a great day. Moji told me ...\n",
      "5440       0      Thank you. do you generally date the brothas?\n",
      "...      ...                                                ...\n",
      "5537       1  Want explicit SEX in 30 secs? Ring 02073162414...\n",
      "5540       1  ASKED 3MOBILE IF 0870 CHATLINES INCLU IN FREE ...\n",
      "5547       1  Had your contract mobile 11 Mnths? Latest Moto...\n",
      "5566       1  REMINDER FROM O2: To get 2.50 pounds free call...\n",
      "5567       1  This is the 2nd time we have tried 2 contact u...\n",
      "\n",
      "[1494 rows x 2 columns]\n"
     ]
    }
   ],
   "source": [
    "print( balanced_df )"
   ]
  },
  {
   "cell_type": "code",
   "execution_count": 58,
   "metadata": {},
   "outputs": [],
   "source": [
    "#Splitin the data set as 70 % - training , 10 % - validation and 20 % -test \n",
    "def random_split( df , train_frac , validation_frac ):\n",
    "\n",
    "    df = df.sample( frac= 1 , random_state= 123 ).reset_index( drop = True )\n",
    "\n",
    "    train_end = int( len(df) * train_frac )\n",
    "    validation_end = train_end + int( len( df ) * validation_frac )\n",
    "\n",
    "    # Diving the df\n",
    "    train_df = df[ : train_end ]\n",
    "    validation_df = df[ train_end : validation_end ]\n",
    "    test_df = df[ validation_end : ]\n",
    "\n",
    "    return train_df , validation_df , test_df\n",
    "\n",
    "train_df , validation_df , test_df = random_split( balanced_df , 0.7 , 0.1 )\n"
   ]
  },
  {
   "cell_type": "code",
   "execution_count": 59,
   "metadata": {},
   "outputs": [
    {
     "name": "stdout",
     "output_type": "stream",
     "text": [
      "1045\n",
      "149\n",
      "300\n"
     ]
    }
   ],
   "source": [
    "print( len( train_df ))\n",
    "print( len( validation_df ))\n",
    "print( len( test_df ))"
   ]
  },
  {
   "cell_type": "code",
   "execution_count": 60,
   "metadata": {},
   "outputs": [],
   "source": [
    "# Now save the dataset \n",
    "train_df.to_csv( \"train.csv\" , index = None )\n",
    "validation_df.to_csv( \"validation.csv\" , index = None )\n",
    "test_df.to_csv( \"test.csv\" , index = None )"
   ]
  },
  {
   "cell_type": "code",
   "execution_count": 61,
   "metadata": {},
   "outputs": [],
   "source": [
    "# Creating Data Loaders\n",
    "import torch \n",
    "from torch.utils.data import Dataset\n",
    "\n",
    "class SpamDataset( Dataset ):\n",
    "    def __init__( self , csv_file , tokenizer , max_length = None , pad_token_id = 50256 ):\n",
    "        self.data = pd.read_csv( csv_file )\n",
    "\n",
    "        # Pre tokenize text \n",
    "        self.encoded_texts = [\n",
    "            tokenizer.encode( text ) for text in self.data[\"Text\"]\n",
    "        ]\n",
    "\n",
    "        if max_length is None:\n",
    "            self.max_length = self._longest_encoded_length()\n",
    "\n",
    "        else:\n",
    "            self.max_length = max_length\n",
    "\n",
    "            # Truncate the seq \n",
    "            self.encoded_texts = [\n",
    "                encoded_text[ : self.max_length ]\n",
    "                for encoded_text in self.encoded_texts \n",
    "            ]\n",
    "\n",
    "        # Padding\n",
    "        self.encoded_texts = [ encoded_text + [ pad_token_id ] * ( self.max_length - len( encoded_text ))\n",
    "                              for encoded_text in self.encoded_texts \n",
    "                              ]\n",
    "        \n",
    "    def __getitem__( self , index ):\n",
    "        encoded = self.encoded_texts[ index ]\n",
    "        label = self.data.iloc[ index ][ 'Labels']\n",
    "        return (\n",
    "            torch.tensor( encoded , dtype = torch.long ),\n",
    "            torch.tensor( label , dtype = torch.long )\n",
    "        )\n",
    "    \n",
    "    def __len__( self ):\n",
    "        return len( self.data )\n",
    "    \n",
    "    def _longest_encoded_length( self ):\n",
    "        max_length = 0\n",
    "        for encoded_text in self.encoded_texts : \n",
    "            encoded_length = len( encoded_text )\n",
    "            if( encoded_length > max_length ):\n",
    "                max_length = encoded_length\n",
    "        return max_length\n",
    "\n"
   ]
  },
  {
   "cell_type": "code",
   "execution_count": 62,
   "metadata": {},
   "outputs": [
    {
     "name": "stdout",
     "output_type": "stream",
     "text": [
      "120\n"
     ]
    }
   ],
   "source": [
    "train_dataset = SpamDataset(\n",
    "    csv_file= \"train.csv\",\n",
    "    max_length= None ,\n",
    "    tokenizer= tokenizer\n",
    ")\n",
    "\n",
    "print( train_dataset.max_length)"
   ]
  },
  {
   "cell_type": "code",
   "execution_count": 63,
   "metadata": {},
   "outputs": [],
   "source": [
    "val_dataset = SpamDataset(\n",
    "    csv_file = \"validation.csv\",\n",
    "    max_length= train_dataset.max_length,\n",
    "    tokenizer= tokenizer\n",
    ")\n",
    "\n",
    "test_dataset = SpamDataset(\n",
    "    csv_file= \"test.csv\",\n",
    "    max_length= train_dataset.max_length,\n",
    "    tokenizer= tokenizer\n",
    ")"
   ]
  },
  {
   "cell_type": "code",
   "execution_count": 64,
   "metadata": {},
   "outputs": [],
   "source": [
    "# Now the data set will be served as a input to the dataloader \n",
    "from torch.utils.data import DataLoader\n",
    "\n",
    "num_wokers = 0\n",
    "batch_size = 8\n",
    "\n",
    "torch.manual_seed( 123 )\n",
    "train_loader = DataLoader(\n",
    "    dataset= train_dataset , \n",
    "    batch_size= batch_size , \n",
    "    num_workers= num_wokers,\n",
    "    drop_last= True,\n",
    ")\n",
    "\n",
    "val_loader = DataLoader(\n",
    "    dataset= val_dataset ,\n",
    "    batch_size= batch_size ,\n",
    "    num_workers= num_wokers,\n",
    "    drop_last= False,\n",
    ")\n",
    "\n",
    "test_loader = DataLoader(\n",
    "    dataset= test_dataset ,\n",
    "    batch_size= batch_size ,\n",
    "    num_workers= num_wokers,\n",
    "    drop_last= False,\n",
    ")"
   ]
  },
  {
   "cell_type": "code",
   "execution_count": 65,
   "metadata": {},
   "outputs": [
    {
     "name": "stdout",
     "output_type": "stream",
     "text": [
      "Train Loader : \n",
      "Input Batch Dimension : torch.Size([8, 120])\n",
      "Target Batch Dimension : torch.Size([8])\n"
     ]
    }
   ],
   "source": [
    "print(\"Train Loader : \")\n",
    "\n",
    "for input_batch , target_batch in train_loader :\n",
    "    pass\n",
    "\n",
    "print( \"Input Batch Dimension :\" , input_batch.shape )\n",
    "print( \"Target Batch Dimension :\" , target_batch.shape )"
   ]
  },
  {
   "cell_type": "code",
   "execution_count": 66,
   "metadata": {},
   "outputs": [
    {
     "name": "stdout",
     "output_type": "stream",
     "text": [
      "130 training batches \n",
      "19 validation batches \n",
      "38 test batches \n"
     ]
    }
   ],
   "source": [
    "print( f\"{len (train_loader )} training batches \")\n",
    "print( f\"{len(val_loader) } validation batches \")\n",
    "print( f\"{len(test_loader) } test batches \")"
   ]
  },
  {
   "cell_type": "markdown",
   "metadata": {},
   "source": [
    "## Initialising the model with GPT 2 weights\n"
   ]
  },
  {
   "cell_type": "code",
   "execution_count": 82,
   "metadata": {},
   "outputs": [],
   "source": [
    "CHOOSE_MODEL = \"gpt2-small (124M)\"\n",
    "INPUT_PROMPT = \"Every effort moves \"\n",
    "BASE_CONFIG = {\n",
    "    \"vocab_size\" : 50257,\n",
    "    \"context_length\" : 1024,\n",
    "    \"drop_rate\" : 0.0,\n",
    "    \"qkv_bias\" : True\n",
    "}\n",
    "model_configs = {\n",
    "    \"gpt2-small (124M)\" : { \"emb_dim\" : 768 , \"n_layers\" : 12 , \"n_heads\" : 12 },\n",
    "    \"gpt2-medium (355M)\" : { \"emb_dim\" : 1024 , \"n_layers\" : 24 , \"n_heads\" : 16 }, \n",
    "    \"gpt2-large (774M)\" : { \"emb_dim\" : 1280 , \"n_layers\" : 36 , \"n_heads\" : 20 }, \n",
    "    \"gpt2-xl (1558M)\" : { \"emb_dim\" : 1600 , \"n_layers\" : 48 , \"n_heads\" : 25 }, \n",
    "}\n",
    "\n",
    "BASE_CONFIG.update( model_configs[CHOOSE_MODEL])\n",
    "\n",
    "assert train_dataset.max_length <= BASE_CONFIG[\"context_length\"], (\n",
    "    f\"Data Set length {train_dataset.max_length } exceeds the model's context length \"\n",
    "    f\"length {BASE_CONFIG[\"context_length\"]}. Reinitialise data set with \"\n",
    "    f\"`max_length ={ BASE_CONFIG[\"context_length\"] }`\"\n",
    ")"
   ]
  },
  {
   "cell_type": "code",
   "execution_count": 83,
   "metadata": {},
   "outputs": [
    {
     "name": "stderr",
     "output_type": "stream",
     "text": [
      "/Library/Frameworks/Python.framework/Versions/3.12/lib/python3.12/site-packages/urllib3/connectionpool.py:1097: InsecureRequestWarning: Unverified HTTPS request is being made to host 'openaipublic.blob.core.windows.net'. Adding certificate verification is strongly advised. See: https://urllib3.readthedocs.io/en/latest/advanced-usage.html#tls-warnings\n",
      "  warnings.warn(\n"
     ]
    },
    {
     "name": "stdout",
     "output_type": "stream",
     "text": [
      "File already exists and is up-to-date: gpt2/124M/checkpoint\n"
     ]
    },
    {
     "name": "stderr",
     "output_type": "stream",
     "text": [
      "/Library/Frameworks/Python.framework/Versions/3.12/lib/python3.12/site-packages/urllib3/connectionpool.py:1097: InsecureRequestWarning: Unverified HTTPS request is being made to host 'openaipublic.blob.core.windows.net'. Adding certificate verification is strongly advised. See: https://urllib3.readthedocs.io/en/latest/advanced-usage.html#tls-warnings\n",
      "  warnings.warn(\n"
     ]
    },
    {
     "name": "stdout",
     "output_type": "stream",
     "text": [
      "File already exists and is up-to-date: gpt2/124M/encoder.json\n"
     ]
    },
    {
     "name": "stderr",
     "output_type": "stream",
     "text": [
      "/Library/Frameworks/Python.framework/Versions/3.12/lib/python3.12/site-packages/urllib3/connectionpool.py:1097: InsecureRequestWarning: Unverified HTTPS request is being made to host 'openaipublic.blob.core.windows.net'. Adding certificate verification is strongly advised. See: https://urllib3.readthedocs.io/en/latest/advanced-usage.html#tls-warnings\n",
      "  warnings.warn(\n"
     ]
    },
    {
     "name": "stdout",
     "output_type": "stream",
     "text": [
      "File already exists and is up-to-date: gpt2/124M/hparams.json\n"
     ]
    },
    {
     "name": "stderr",
     "output_type": "stream",
     "text": [
      "/Library/Frameworks/Python.framework/Versions/3.12/lib/python3.12/site-packages/urllib3/connectionpool.py:1097: InsecureRequestWarning: Unverified HTTPS request is being made to host 'openaipublic.blob.core.windows.net'. Adding certificate verification is strongly advised. See: https://urllib3.readthedocs.io/en/latest/advanced-usage.html#tls-warnings\n",
      "  warnings.warn(\n"
     ]
    },
    {
     "name": "stdout",
     "output_type": "stream",
     "text": [
      "File already exists and is up-to-date: gpt2/124M/model.ckpt.data-00000-of-00001\n"
     ]
    },
    {
     "name": "stderr",
     "output_type": "stream",
     "text": [
      "/Library/Frameworks/Python.framework/Versions/3.12/lib/python3.12/site-packages/urllib3/connectionpool.py:1097: InsecureRequestWarning: Unverified HTTPS request is being made to host 'openaipublic.blob.core.windows.net'. Adding certificate verification is strongly advised. See: https://urllib3.readthedocs.io/en/latest/advanced-usage.html#tls-warnings\n",
      "  warnings.warn(\n"
     ]
    },
    {
     "name": "stdout",
     "output_type": "stream",
     "text": [
      "File already exists and is up-to-date: gpt2/124M/model.ckpt.index\n"
     ]
    },
    {
     "name": "stderr",
     "output_type": "stream",
     "text": [
      "/Library/Frameworks/Python.framework/Versions/3.12/lib/python3.12/site-packages/urllib3/connectionpool.py:1097: InsecureRequestWarning: Unverified HTTPS request is being made to host 'openaipublic.blob.core.windows.net'. Adding certificate verification is strongly advised. See: https://urllib3.readthedocs.io/en/latest/advanced-usage.html#tls-warnings\n",
      "  warnings.warn(\n"
     ]
    },
    {
     "name": "stdout",
     "output_type": "stream",
     "text": [
      "File already exists and is up-to-date: gpt2/124M/model.ckpt.meta\n"
     ]
    },
    {
     "name": "stderr",
     "output_type": "stream",
     "text": [
      "/Library/Frameworks/Python.framework/Versions/3.12/lib/python3.12/site-packages/urllib3/connectionpool.py:1097: InsecureRequestWarning: Unverified HTTPS request is being made to host 'openaipublic.blob.core.windows.net'. Adding certificate verification is strongly advised. See: https://urllib3.readthedocs.io/en/latest/advanced-usage.html#tls-warnings\n",
      "  warnings.warn(\n"
     ]
    },
    {
     "name": "stdout",
     "output_type": "stream",
     "text": [
      "File already exists and is up-to-date: gpt2/124M/vocab.bpe\n",
      "Setting :  {'n_vocab': 50257, 'n_ctx': 1024, 'n_embd': 768, 'n_head': 12, 'n_layer': 12}\n",
      "Parameter dictionary keys :  dict_keys(['blocks', 'b', 'g', 'wpe', 'wte'])\n"
     ]
    }
   ],
   "source": [
    "model_size = CHOOSE_MODEL.split(\" \")[ - 1 ].lstrip(\"(\").rstrip(\")\")\n",
    "\n",
    "from gpt_download3 import download_and_load_gpt2\n",
    "\n",
    "settings , params = download_and_load_gpt2( model_size= model_size , models_dir= \"gpt2\")\n",
    "print( \"Setting : \", settings)\n",
    "print( 'Parameter dictionary keys : ' , params.keys())\n"
   ]
  },
  {
   "cell_type": "markdown",
   "metadata": {},
   "source": [
    "## Initialising the model with GPT 2 weights\n"
   ]
  },
  {
   "cell_type": "code",
   "execution_count": 91,
   "metadata": {},
   "outputs": [],
   "source": [
    "model = GPTModel( BASE_CONFIG )\n",
    "load_weights_into_gpt( model , params )\n",
    "model.eval();"
   ]
  },
  {
   "cell_type": "code",
   "execution_count": 92,
   "metadata": {},
   "outputs": [],
   "source": [
    "def text_to_token_ids( text , tokenizer ):\n",
    "    encoded = tokenizer.encode( text , allowed_special = {'<|endoftext|>'})\n",
    "    encoded_tensor = torch.tensor( encoded ).unsqueeze( 0 )\n",
    "    return encoded_tensor\n",
    "\n",
    "def token_ids_to_text( token_ids , tokenizer ):\n",
    "    flat = token_ids.squeeze( 0 )\n",
    "    return tokenizer.decode( flat.tolist())"
   ]
  },
  {
   "cell_type": "code",
   "execution_count": 93,
   "metadata": {},
   "outputs": [],
   "source": [
    "def generate_text_sample( model , idx , max_new_tokens , context_size ):\n",
    "    # idx is the ( batch , n_tokens ) array of the indices in the current context\n",
    "    for _ in range( max_new_tokens ):\n",
    "        idx_cond = idx[:, -context_size: ]\n",
    "        with torch.no_grad():\n",
    "            logits = model( idx_cond )\n",
    "\n",
    "        logits = logits[ :, -1, :]\n",
    "\n",
    "        probas = torch.softmax( logits , dim = -1 )\n",
    "    \n",
    "        idx_next = torch.argmax( probas , dim = -1 , keepdim = True )\n",
    "\n",
    "        idx = torch.cat((idx , idx_next ), dim = 1 )\n",
    "\n",
    "    return idx"
   ]
  },
  {
   "cell_type": "code",
   "execution_count": 94,
   "metadata": {},
   "outputs": [
    {
     "name": "stdout",
     "output_type": "stream",
     "text": [
      "Every effort moves you  to the next step.\n",
      "The first step is to find the right\n"
     ]
    }
   ],
   "source": [
    "text1 = \"Every effort moves you \"\n",
    "token_ids = generate_text_sample(\n",
    "    model = model ,\n",
    "    idx = text_to_token_ids( text1 , tokenizer ),\n",
    "    max_new_tokens= 15 , \n",
    "    context_size= BASE_CONFIG[\"context_length\"]\n",
    ")\n",
    "\n",
    "print( token_ids_to_text( token_ids , tokenizer ))"
   ]
  },
  {
   "cell_type": "code",
   "execution_count": 96,
   "metadata": {},
   "outputs": [
    {
     "name": "stdout",
     "output_type": "stream",
     "text": [
      "Is the following text 'spam'? Answer with 'Yes' or 'No'You are a winner you have been speciallyselected for receive $10000 cash or $2000 award. 'Spam' means spamming or sending unwanted or unwanted messages. 'Spam' means spamming or sending unwanted\n"
     ]
    }
   ],
   "source": [
    "# Lets check that our base model can classify the given mail as spam or no spam \n",
    "text2 = (\n",
    "    \"Is the following text 'spam'? Answer with 'Yes' or 'No\"\n",
    "    \"'You are a winner you have been specially\"\n",
    "    \"selected for receive $10000 cash or $2000 award. '\"\n",
    ")\n",
    "\n",
    "token_ids = generate_text_sample(\n",
    "    model = model ,\n",
    "    idx = text_to_token_ids( text2 , tokenizer ),\n",
    "    max_new_tokens= 23 , \n",
    "    context_size= BASE_CONFIG[\"context_length\"]\n",
    ")\n",
    "\n",
    "print( token_ids_to_text( token_ids , tokenizer ))"
   ]
  },
  {
   "cell_type": "markdown",
   "metadata": {},
   "source": [
    "#### model fail to give the correct output because it has only under gone pretraining not fine tuning\n"
   ]
  },
  {
   "cell_type": "code",
   "execution_count": null,
   "metadata": {},
   "outputs": [],
   "source": [
    "# Final Output Layer is now changed from dimension - 768 * 50257 to 768 * 2 for predicting spam or no spam\n",
    "# Therfore we are fine tuing inky the final transformer block\n",
    "\n",
    "# finetune :\n",
    "    # - Final Output Layer\n",
    "    # - Final Transformer Block \n",
    "    # - Final Layer Normal Module \n"
   ]
  },
  {
   "cell_type": "markdown",
   "metadata": {},
   "source": [
    "## Adding a classification heas at the top"
   ]
  },
  {
   "cell_type": "code",
   "execution_count": 97,
   "metadata": {},
   "outputs": [
    {
     "name": "stdout",
     "output_type": "stream",
     "text": [
      "GPTModel(\n",
      "  (tok_emb): Embedding(50257, 768)\n",
      "  (pos_emb): Embedding(1024, 768)\n",
      "  (drop_emb): Dropout(p=0.0, inplace=False)\n",
      "  (trf_blocks): Sequential(\n",
      "    (0): TransformerBlock(\n",
      "      (att): MultiHeadAttention(\n",
      "        (W_query): Linear(in_features=768, out_features=768, bias=True)\n",
      "        (W_key): Linear(in_features=768, out_features=768, bias=True)\n",
      "        (W_value): Linear(in_features=768, out_features=768, bias=True)\n",
      "        (out_proj): Linear(in_features=768, out_features=768, bias=True)\n",
      "        (dropout): Dropout(p=0.0, inplace=False)\n",
      "      )\n",
      "      (ff): FeedForward(\n",
      "        (layers): Sequential(\n",
      "          (0): Linear(in_features=768, out_features=3072, bias=True)\n",
      "          (1): GELU()\n",
      "          (2): Linear(in_features=3072, out_features=768, bias=True)\n",
      "        )\n",
      "      )\n",
      "      (norm1): LayerNorm()\n",
      "      (norm2): LayerNorm()\n",
      "      (drop_shortcut): Dropout(p=0.0, inplace=False)\n",
      "    )\n",
      "    (1): TransformerBlock(\n",
      "      (att): MultiHeadAttention(\n",
      "        (W_query): Linear(in_features=768, out_features=768, bias=True)\n",
      "        (W_key): Linear(in_features=768, out_features=768, bias=True)\n",
      "        (W_value): Linear(in_features=768, out_features=768, bias=True)\n",
      "        (out_proj): Linear(in_features=768, out_features=768, bias=True)\n",
      "        (dropout): Dropout(p=0.0, inplace=False)\n",
      "      )\n",
      "      (ff): FeedForward(\n",
      "        (layers): Sequential(\n",
      "          (0): Linear(in_features=768, out_features=3072, bias=True)\n",
      "          (1): GELU()\n",
      "          (2): Linear(in_features=3072, out_features=768, bias=True)\n",
      "        )\n",
      "      )\n",
      "      (norm1): LayerNorm()\n",
      "      (norm2): LayerNorm()\n",
      "      (drop_shortcut): Dropout(p=0.0, inplace=False)\n",
      "    )\n",
      "    (2): TransformerBlock(\n",
      "      (att): MultiHeadAttention(\n",
      "        (W_query): Linear(in_features=768, out_features=768, bias=True)\n",
      "        (W_key): Linear(in_features=768, out_features=768, bias=True)\n",
      "        (W_value): Linear(in_features=768, out_features=768, bias=True)\n",
      "        (out_proj): Linear(in_features=768, out_features=768, bias=True)\n",
      "        (dropout): Dropout(p=0.0, inplace=False)\n",
      "      )\n",
      "      (ff): FeedForward(\n",
      "        (layers): Sequential(\n",
      "          (0): Linear(in_features=768, out_features=3072, bias=True)\n",
      "          (1): GELU()\n",
      "          (2): Linear(in_features=3072, out_features=768, bias=True)\n",
      "        )\n",
      "      )\n",
      "      (norm1): LayerNorm()\n",
      "      (norm2): LayerNorm()\n",
      "      (drop_shortcut): Dropout(p=0.0, inplace=False)\n",
      "    )\n",
      "    (3): TransformerBlock(\n",
      "      (att): MultiHeadAttention(\n",
      "        (W_query): Linear(in_features=768, out_features=768, bias=True)\n",
      "        (W_key): Linear(in_features=768, out_features=768, bias=True)\n",
      "        (W_value): Linear(in_features=768, out_features=768, bias=True)\n",
      "        (out_proj): Linear(in_features=768, out_features=768, bias=True)\n",
      "        (dropout): Dropout(p=0.0, inplace=False)\n",
      "      )\n",
      "      (ff): FeedForward(\n",
      "        (layers): Sequential(\n",
      "          (0): Linear(in_features=768, out_features=3072, bias=True)\n",
      "          (1): GELU()\n",
      "          (2): Linear(in_features=3072, out_features=768, bias=True)\n",
      "        )\n",
      "      )\n",
      "      (norm1): LayerNorm()\n",
      "      (norm2): LayerNorm()\n",
      "      (drop_shortcut): Dropout(p=0.0, inplace=False)\n",
      "    )\n",
      "    (4): TransformerBlock(\n",
      "      (att): MultiHeadAttention(\n",
      "        (W_query): Linear(in_features=768, out_features=768, bias=True)\n",
      "        (W_key): Linear(in_features=768, out_features=768, bias=True)\n",
      "        (W_value): Linear(in_features=768, out_features=768, bias=True)\n",
      "        (out_proj): Linear(in_features=768, out_features=768, bias=True)\n",
      "        (dropout): Dropout(p=0.0, inplace=False)\n",
      "      )\n",
      "      (ff): FeedForward(\n",
      "        (layers): Sequential(\n",
      "          (0): Linear(in_features=768, out_features=3072, bias=True)\n",
      "          (1): GELU()\n",
      "          (2): Linear(in_features=3072, out_features=768, bias=True)\n",
      "        )\n",
      "      )\n",
      "      (norm1): LayerNorm()\n",
      "      (norm2): LayerNorm()\n",
      "      (drop_shortcut): Dropout(p=0.0, inplace=False)\n",
      "    )\n",
      "    (5): TransformerBlock(\n",
      "      (att): MultiHeadAttention(\n",
      "        (W_query): Linear(in_features=768, out_features=768, bias=True)\n",
      "        (W_key): Linear(in_features=768, out_features=768, bias=True)\n",
      "        (W_value): Linear(in_features=768, out_features=768, bias=True)\n",
      "        (out_proj): Linear(in_features=768, out_features=768, bias=True)\n",
      "        (dropout): Dropout(p=0.0, inplace=False)\n",
      "      )\n",
      "      (ff): FeedForward(\n",
      "        (layers): Sequential(\n",
      "          (0): Linear(in_features=768, out_features=3072, bias=True)\n",
      "          (1): GELU()\n",
      "          (2): Linear(in_features=3072, out_features=768, bias=True)\n",
      "        )\n",
      "      )\n",
      "      (norm1): LayerNorm()\n",
      "      (norm2): LayerNorm()\n",
      "      (drop_shortcut): Dropout(p=0.0, inplace=False)\n",
      "    )\n",
      "    (6): TransformerBlock(\n",
      "      (att): MultiHeadAttention(\n",
      "        (W_query): Linear(in_features=768, out_features=768, bias=True)\n",
      "        (W_key): Linear(in_features=768, out_features=768, bias=True)\n",
      "        (W_value): Linear(in_features=768, out_features=768, bias=True)\n",
      "        (out_proj): Linear(in_features=768, out_features=768, bias=True)\n",
      "        (dropout): Dropout(p=0.0, inplace=False)\n",
      "      )\n",
      "      (ff): FeedForward(\n",
      "        (layers): Sequential(\n",
      "          (0): Linear(in_features=768, out_features=3072, bias=True)\n",
      "          (1): GELU()\n",
      "          (2): Linear(in_features=3072, out_features=768, bias=True)\n",
      "        )\n",
      "      )\n",
      "      (norm1): LayerNorm()\n",
      "      (norm2): LayerNorm()\n",
      "      (drop_shortcut): Dropout(p=0.0, inplace=False)\n",
      "    )\n",
      "    (7): TransformerBlock(\n",
      "      (att): MultiHeadAttention(\n",
      "        (W_query): Linear(in_features=768, out_features=768, bias=True)\n",
      "        (W_key): Linear(in_features=768, out_features=768, bias=True)\n",
      "        (W_value): Linear(in_features=768, out_features=768, bias=True)\n",
      "        (out_proj): Linear(in_features=768, out_features=768, bias=True)\n",
      "        (dropout): Dropout(p=0.0, inplace=False)\n",
      "      )\n",
      "      (ff): FeedForward(\n",
      "        (layers): Sequential(\n",
      "          (0): Linear(in_features=768, out_features=3072, bias=True)\n",
      "          (1): GELU()\n",
      "          (2): Linear(in_features=3072, out_features=768, bias=True)\n",
      "        )\n",
      "      )\n",
      "      (norm1): LayerNorm()\n",
      "      (norm2): LayerNorm()\n",
      "      (drop_shortcut): Dropout(p=0.0, inplace=False)\n",
      "    )\n",
      "    (8): TransformerBlock(\n",
      "      (att): MultiHeadAttention(\n",
      "        (W_query): Linear(in_features=768, out_features=768, bias=True)\n",
      "        (W_key): Linear(in_features=768, out_features=768, bias=True)\n",
      "        (W_value): Linear(in_features=768, out_features=768, bias=True)\n",
      "        (out_proj): Linear(in_features=768, out_features=768, bias=True)\n",
      "        (dropout): Dropout(p=0.0, inplace=False)\n",
      "      )\n",
      "      (ff): FeedForward(\n",
      "        (layers): Sequential(\n",
      "          (0): Linear(in_features=768, out_features=3072, bias=True)\n",
      "          (1): GELU()\n",
      "          (2): Linear(in_features=3072, out_features=768, bias=True)\n",
      "        )\n",
      "      )\n",
      "      (norm1): LayerNorm()\n",
      "      (norm2): LayerNorm()\n",
      "      (drop_shortcut): Dropout(p=0.0, inplace=False)\n",
      "    )\n",
      "    (9): TransformerBlock(\n",
      "      (att): MultiHeadAttention(\n",
      "        (W_query): Linear(in_features=768, out_features=768, bias=True)\n",
      "        (W_key): Linear(in_features=768, out_features=768, bias=True)\n",
      "        (W_value): Linear(in_features=768, out_features=768, bias=True)\n",
      "        (out_proj): Linear(in_features=768, out_features=768, bias=True)\n",
      "        (dropout): Dropout(p=0.0, inplace=False)\n",
      "      )\n",
      "      (ff): FeedForward(\n",
      "        (layers): Sequential(\n",
      "          (0): Linear(in_features=768, out_features=3072, bias=True)\n",
      "          (1): GELU()\n",
      "          (2): Linear(in_features=3072, out_features=768, bias=True)\n",
      "        )\n",
      "      )\n",
      "      (norm1): LayerNorm()\n",
      "      (norm2): LayerNorm()\n",
      "      (drop_shortcut): Dropout(p=0.0, inplace=False)\n",
      "    )\n",
      "    (10): TransformerBlock(\n",
      "      (att): MultiHeadAttention(\n",
      "        (W_query): Linear(in_features=768, out_features=768, bias=True)\n",
      "        (W_key): Linear(in_features=768, out_features=768, bias=True)\n",
      "        (W_value): Linear(in_features=768, out_features=768, bias=True)\n",
      "        (out_proj): Linear(in_features=768, out_features=768, bias=True)\n",
      "        (dropout): Dropout(p=0.0, inplace=False)\n",
      "      )\n",
      "      (ff): FeedForward(\n",
      "        (layers): Sequential(\n",
      "          (0): Linear(in_features=768, out_features=3072, bias=True)\n",
      "          (1): GELU()\n",
      "          (2): Linear(in_features=3072, out_features=768, bias=True)\n",
      "        )\n",
      "      )\n",
      "      (norm1): LayerNorm()\n",
      "      (norm2): LayerNorm()\n",
      "      (drop_shortcut): Dropout(p=0.0, inplace=False)\n",
      "    )\n",
      "    (11): TransformerBlock(\n",
      "      (att): MultiHeadAttention(\n",
      "        (W_query): Linear(in_features=768, out_features=768, bias=True)\n",
      "        (W_key): Linear(in_features=768, out_features=768, bias=True)\n",
      "        (W_value): Linear(in_features=768, out_features=768, bias=True)\n",
      "        (out_proj): Linear(in_features=768, out_features=768, bias=True)\n",
      "        (dropout): Dropout(p=0.0, inplace=False)\n",
      "      )\n",
      "      (ff): FeedForward(\n",
      "        (layers): Sequential(\n",
      "          (0): Linear(in_features=768, out_features=3072, bias=True)\n",
      "          (1): GELU()\n",
      "          (2): Linear(in_features=3072, out_features=768, bias=True)\n",
      "        )\n",
      "      )\n",
      "      (norm1): LayerNorm()\n",
      "      (norm2): LayerNorm()\n",
      "      (drop_shortcut): Dropout(p=0.0, inplace=False)\n",
      "    )\n",
      "  )\n",
      "  (final_norm): LayerNorm()\n",
      "  (out_head): Linear(in_features=768, out_features=50257, bias=False)\n",
      ")\n"
     ]
    }
   ],
   "source": [
    "# Original model architecture\n",
    "print( model )"
   ]
  },
  {
   "cell_type": "code",
   "execution_count": 98,
   "metadata": {},
   "outputs": [],
   "source": [
    "for param in model.parameters():\n",
    "    param.requires_grad = False"
   ]
  },
  {
   "cell_type": "code",
   "execution_count": 99,
   "metadata": {},
   "outputs": [],
   "source": [
    "torch.manual_seed( 123 )\n",
    "\n",
    "num_classes = 2\n",
    "model.out_head = torch.nn.Linear( in_features= BASE_CONFIG[\"emb_dim\"] , out_features= num_classes )\n"
   ]
  },
  {
   "cell_type": "code",
   "execution_count": 100,
   "metadata": {},
   "outputs": [],
   "source": [
    "for param in model.trf_blocks[ -1 ].parameters():\n",
    "    param.requires_grad = True \n",
    "\n",
    "for param in model.final_norm.parameters():\n",
    "    param.requires_grad = True "
   ]
  },
  {
   "cell_type": "code",
   "execution_count": 101,
   "metadata": {},
   "outputs": [
    {
     "name": "stdout",
     "output_type": "stream",
     "text": [
      "Inputs : tensor([[5211,  345,  423,  640]])\n",
      "Inputs Dimesions : torch.Size([1, 4])\n"
     ]
    }
   ],
   "source": [
    "inputs = tokenizer.encode( \"Do you have time\")\n",
    "inputs = torch.tensor( inputs ).unsqueeze( 0 )\n",
    "print(\"Inputs :\" , inputs )\n",
    "print(\"Inputs Dimesions :\" , inputs.shape)"
   ]
  },
  {
   "cell_type": "code",
   "execution_count": 102,
   "metadata": {},
   "outputs": [
    {
     "name": "stdout",
     "output_type": "stream",
     "text": [
      "Outputs: \n",
      " tensor([[[-1.5883,  0.9920],\n",
      "         [-3.7208,  7.4510],\n",
      "         [-2.2642,  6.6005],\n",
      "         [-3.5965,  3.9889]]])\n",
      "Output Dimension: \n",
      "  torch.Size([1, 4, 2])\n"
     ]
    }
   ],
   "source": [
    "with torch.no_grad():\n",
    "    outputs = model( inputs )\n",
    "\n",
    "print(\"Outputs: \\n\" , outputs )\n",
    "print(\"Output Dimension: \\n \", outputs.shape )"
   ]
  },
  {
   "cell_type": "code",
   "execution_count": 103,
   "metadata": {},
   "outputs": [
    {
     "name": "stdout",
     "output_type": "stream",
     "text": [
      "Last Token Output : tensor([[-3.5965,  3.9889]])\n"
     ]
    }
   ],
   "source": [
    "print(\"Last Token Output :\" , outputs[ : ,-1, : ])"
   ]
  },
  {
   "cell_type": "markdown",
   "metadata": {},
   "source": [
    "## Calclulating the Classification Loss and Accuracy "
   ]
  },
  {
   "cell_type": "code",
   "execution_count": 105,
   "metadata": {},
   "outputs": [
    {
     "name": "stdout",
     "output_type": "stream",
     "text": [
      "tensor([[5.0753e-04, 9.9949e-01]])\n",
      "Class Label : 1\n"
     ]
    }
   ],
   "source": [
    "#  Apply softmax \n",
    "probas = torch.softmax( outputs[ :, -1 , :] , dim = -1 )\n",
    "print( probas )\n",
    "label = torch.argmax( probas )\n",
    "print(\"Class Label :\" , label.item())"
   ]
  },
  {
   "cell_type": "code",
   "execution_count": 107,
   "metadata": {},
   "outputs": [
    {
     "name": "stdout",
     "output_type": "stream",
     "text": [
      "Class Label : 1\n"
     ]
    }
   ],
   "source": [
    "# or either we can just take the max value for outputs\n",
    "logits = outputs[ :, -1 , : ]\n",
    "label = torch.argmax( logits )\n",
    "print(\"Class Label :\" , label.item() )"
   ]
  },
  {
   "cell_type": "code",
   "execution_count": null,
   "metadata": {},
   "outputs": [],
   "source": [
    "def calc_accuracy_loader( data_loader , model , device , num_batches = None ):\n",
    "    model.eval()\n",
    "    correct_predictions , num_examples = 0 , 0 \n",
    "    \n",
    "    if num_batches is None :\n",
    "        num_batches = len( data_loader )\n",
    "    else :\n",
    "        num_batches = min( num_batches , len( data_loader ))\n",
    "\n",
    "    for i , ( input_batch , target_batch ) in enumerate( data_loader ):\n",
    "        if i < num_batches:\n",
    "            input_batch , target_batch = input_batch.to( device ) , target_batch.to( device )\n",
    "\n",
    "            with torch.no_grad():\n",
    "                logits = model( input_batch )[ :, -1 , :]\n",
    "            predicted_labels = torch.argmax( logits , dim = -1 )\n",
    "\n",
    "            num_examples += predicted_labels.shape[ 0 ]\n",
    "            correct_predictions += ( predicted_labels == target_batch ).sum().item()\n",
    "\n",
    "        else:\n",
    "            break\n",
    "    \n",
    "    return correct_predictions / num_examples \n",
    "    "
   ]
  },
  {
   "cell_type": "code",
   "execution_count": null,
   "metadata": {},
   "outputs": [
    {
     "name": "stdout",
     "output_type": "stream",
     "text": [
      "Training Accuracy : 47.50%\n",
      "Validation Accuracy : 45.00%\n",
      "Test Accuracy : 48.75%\n"
     ]
    }
   ],
   "source": [
    "# This is just a random value run \n",
    "\n",
    "device = torch.device( \"cuda\" if torch.cuda.is_available() else \"cpu\")\n",
    "\n",
    "model.to( device )\n",
    "torch.manual_seed( 123 )\n",
    "train_accuracy = calc_accuracy_loader( train_loader , model , device , num_batches= 10 )\n",
    "val_accuracy = calc_accuracy_loader( val_loader , model , device , num_batches= 10 )\n",
    "test_accuracy = calc_accuracy_loader( test_loader , model , device , num_batches= 10 )\n",
    "\n",
    "\n",
    "print( f\"Training Accuracy : {train_accuracy * 100 :.2f}%\")\n",
    "print( f\"Validation Accuracy : {val_accuracy * 100 :.2f}%\")\n",
    "print( f\"Test Accuracy : {test_accuracy * 100 :.2f}%\")"
   ]
  },
  {
   "cell_type": "code",
   "execution_count": 110,
   "metadata": {},
   "outputs": [],
   "source": [
    "def calc_loss_batch( input_batch , target_batch , model , batch ):\n",
    "    input_batch , target_batch  = input_batch.to( device ) , target_batch.to( device )\n",
    "    logits = model( input_batch )[ :, -1 , :]\n",
    "    loss = torch.nn.functional.cross_entropy( logits , target_batch )\n",
    "    return loss"
   ]
  },
  {
   "cell_type": "code",
   "execution_count": 111,
   "metadata": {},
   "outputs": [],
   "source": [
    "# loss calculation for multiple batches\n",
    "def calc_loss_loader( data_loader , model , device , num_batches = None ):\n",
    "    total_loss = 0 \n",
    "    if len( data_loader ) == 0 :\n",
    "        return float(\"nan\")\n",
    "    \n",
    "    elif num_batches is None:\n",
    "        num_batches = len( data_loader )\n",
    "\n",
    "    else :\n",
    "        num_batches = min( num_batches, len( data_loader ))\n",
    "\n",
    "        \n",
    "    for i , ( input_batch , target_batch ) in enumerate( data_loader ):\n",
    "        if i < num_batches:\n",
    "            loss = calc_loss_batch( input_batch , target_batch , model , device )\n",
    "            total_loss += loss\n",
    "        else : \n",
    "            break\n",
    "    \n",
    "\n",
    "    return total_loss/ num_batches\n"
   ]
  },
  {
   "cell_type": "code",
   "execution_count": 112,
   "metadata": {},
   "outputs": [
    {
     "name": "stdout",
     "output_type": "stream",
     "text": [
      "Training Loss : 3.070\n",
      "Validation Loss : 2.575\n",
      "Test Loss : 2.314\n"
     ]
    }
   ],
   "source": [
    "with torch.no_grad():\n",
    "    train_loss = calc_loss_loader( train_loader , model , device , num_batches= 5 )\n",
    "    val_loss = calc_loss_loader( val_loader , model , device , num_batches= 5 )\n",
    "    test_loss = calc_loss_loader( test_loader , model , device , num_batches= 5 )\n",
    "\n",
    "print( f\"Training Loss : {train_loss:.3f}\")\n",
    "print( f\"Validation Loss : {val_loss:.3f}\")\n",
    "print( f\"Test Loss : {test_loss:.3f}\")"
   ]
  },
  {
   "cell_type": "markdown",
   "metadata": {},
   "source": [
    "## Fine Tuning The Mode on Supervised DATA"
   ]
  },
  {
   "cell_type": "markdown",
   "metadata": {},
   "source": [
    "### Step 1 : Set the Model to training mode \n",
    "### Step 2 : Reset the loss Gradient from the previous batch \n",
    "### Step 3 : Calaculate the loss Gradient \n",
    "### Step 4 : Update Model weights using loss gradients\n",
    "### Step 5 : New track examples instead of tokens\n",
    "### Step 6 : Optinal Evaluation Step\n",
    "### Step 7 : Calaculate the accuracy after each epoch"
   ]
  },
  {
   "cell_type": "code",
   "execution_count": 123,
   "metadata": {},
   "outputs": [],
   "source": [
    "def train_classifier_simple( model , train_loader , val_loader , optimizer , device , num_epochs , eval_freq , eval_iter ):\n",
    "\n",
    "    train_losses , val_losses , train_accs , val_accs = [] , [] , [] , []\n",
    "    examples_seen , global_step = 0 , -1 \n",
    "\n",
    "    for epoch in range(num_epochs) :\n",
    "        model.train() # set the model in training mode\n",
    "\n",
    "        for input_batch , target_batch in train_loader :\n",
    "            optimizer.zero_grad()\n",
    "            loss = calc_loss_batch( input_batch , target_batch , model , device )\n",
    "            loss.backward() # calc loss gradient \n",
    "\n",
    "            optimizer.step()    #update the model weights using loss gradient \n",
    "            examples_seen += input_batch.shape[ 0 ]\n",
    "            global_step += 1\n",
    "\n",
    "            ## 130 batches : training , eval_freq = 50 --> after 50 batches are proceesed in each epoch , we print train loss and validation loss \n",
    "            #Optinal Step Evaluation\n",
    "            if global_step % eval_freq == 0 :\n",
    "                train_loss, val_loss = evaluate_model( \n",
    "                    model , train_loader , val_loader , device , eval_iter\n",
    "                )\n",
    "                train_losses.append( train_loss )\n",
    "                val_losses.append( val_loss )\n",
    "                print( f\"Ep { epoch + 1 } (Step {global_step:06d}) : \"\n",
    "                       f\"Train Loss { train_loss :.3f}, Validation Loss {val_loss :.3f}\")\n",
    "\n",
    "\n",
    "        # calculated the accuracy after each epoch \n",
    "\n",
    "        train_accuracy = calc_accuracy_loader( train_loader , model , device , num_batches= eval_iter )\n",
    "        val_accuracy = calc_accuracy_loader( val_loader , model , device , num_batches= eval_iter )\n",
    "        print( f\"Training Accuracy : { train_accuracy * 100 :.2f} %\" , end = \"\")\n",
    "        print( f\"Validation Accuracy : { val_accuracy * 100 :.2f} %\")\n",
    "        train_accs.append( train_accuracy )\n",
    "        val_accs.append( val_accuracy )\n",
    "\n",
    "    return train_losses , val_losses , train_accs , val_accs , examples_seen \n",
    "\n",
    "\n"
   ]
  },
  {
   "cell_type": "code",
   "execution_count": 121,
   "metadata": {},
   "outputs": [],
   "source": [
    "def evaluate_model( model , train_loader , val_loader , device , eval_iter ):\n",
    "    model.eval()\n",
    "    with torch.no_grad():\n",
    "        train_loss = calc_loss_loader( train_loader , model , device , num_batches= eval_iter )\n",
    "        val_loss = calc_loss_loader( val_loader , model , device , num_batches= eval_iter )\n",
    "    model.train()\n",
    "    return train_loss , val_loss\n"
   ]
  },
  {
   "cell_type": "code",
   "execution_count": 124,
   "metadata": {},
   "outputs": [
    {
     "name": "stdout",
     "output_type": "stream",
     "text": [
      "Ep 1 (Step 000000) : Train Loss 2.120, Validation Loss 1.786\n",
      "Ep 1 (Step 000050) : Train Loss 0.626, Validation Loss 0.640\n",
      "Ep 1 (Step 000100) : Train Loss 0.553, Validation Loss 0.585\n",
      "Training Accuracy : 67.50 %Validation Accuracy : 57.50 %\n",
      "Ep 2 (Step 000150) : Train Loss 0.522, Validation Loss 0.487\n",
      "Ep 2 (Step 000200) : Train Loss 0.433, Validation Loss 0.398\n",
      "Ep 2 (Step 000250) : Train Loss 0.396, Validation Loss 0.299\n",
      "Training Accuracy : 87.50 %Validation Accuracy : 95.00 %\n",
      "Ep 3 (Step 000300) : Train Loss 0.271, Validation Loss 0.137\n",
      "Ep 3 (Step 000350) : Train Loss 0.261, Validation Loss 0.082\n",
      "Training Accuracy : 92.50 %Validation Accuracy : 97.50 %\n",
      "Ep 4 (Step 000400) : Train Loss 0.197, Validation Loss 0.070\n",
      "Ep 4 (Step 000450) : Train Loss 0.172, Validation Loss 0.088\n",
      "Ep 4 (Step 000500) : Train Loss 0.156, Validation Loss 0.064\n",
      "Training Accuracy : 95.00 %Validation Accuracy : 97.50 %\n",
      "Ep 5 (Step 000550) : Train Loss 0.133, Validation Loss 0.072\n",
      "Ep 5 (Step 000600) : Train Loss 0.148, Validation Loss 0.041\n",
      "Training Accuracy : 95.00 %Validation Accuracy : 97.50 %\n",
      "Training completed in 10.49 minutes \n"
     ]
    }
   ],
   "source": [
    "import time\n",
    "start_time = time.time()\n",
    "torch.manual_seed( 123 )\n",
    "\n",
    "optimizer = torch.optim.AdamW( model.parameters() , lr = 5e-5 , weight_decay= 0.1 )\n",
    "\n",
    "num_epochs = 5\n",
    "train_losses , val_losses , train_accs , val_accs , example_seen = train_classifier_simple( \n",
    "    model , train_loader , val_loader , optimizer , device , \n",
    "    num_epochs = num_epochs , eval_freq= 50 , eval_iter= 5,\n",
    ")\n",
    "\n",
    "end_time = time.time()\n",
    "execution_time_minutes = ( end_time - start_time ) / 60 \n",
    "print( f\"Training completed in { execution_time_minutes :.2f} minutes \")"
   ]
  },
  {
   "cell_type": "code",
   "execution_count": 125,
   "metadata": {},
   "outputs": [],
   "source": [
    "import matplotlib.pyplot as plt\n",
    "\n",
    "def plot_values( epochs_seen , example_seen , train_values , val_values , label = \"loss\"):\n",
    "    fig , ax1 = plt.subplots( figsize=( 5 , 3 ))\n",
    "\n",
    "    # Plot the Training loss and Validation Loss\n",
    "    ax1.plot( epochs_seen , train_values , label = f\"Trainig {label}\")\n",
    "    ax1.plot( epochs_seen ,  val_values , linestyle = \"-.\" , label = f\"Validation {label}\")\n",
    "    ax1.set_xlabel(\"Epochs\")\n",
    "    ax1.set_ylabel(label.capitalize())\n",
    "    ax1.legend()\n",
    "\n",
    "    ax2 = ax1.twiny()\n",
    "    ax2.plot( example_seen , train_values , alpha = 0 )\n",
    "    ax2.set_xlabel(\"Example Seen\")\n",
    "\n",
    "    fig.tight_layout()\n",
    "\n",
    "    plt.savefig( f\"{label}-plot.pdf\")\n",
    "    plt.show()"
   ]
  },
  {
   "cell_type": "code",
   "execution_count": 126,
   "metadata": {},
   "outputs": [
    {
     "data": {
      "image/png": "[encoded data removed]",
      "text/plain": [
       "<Figure size 500x300 with 2 Axes>"
      ]
     },
     "metadata": {},
     "output_type": "display_data"
    }
   ],
   "source": [
    "epochs_tensor = torch.linspace( 0 , num_epochs , len( train_losses ))\n",
    "example_seen_tensor = torch.linspace( 0 , example_seen , len( train_losses ) )\n",
    "\n",
    "\n",
    "plot_values( epochs_tensor , example_seen_tensor , train_losses , val_losses )"
   ]
  },
  {
   "cell_type": "code",
   "execution_count": 127,
   "metadata": {},
   "outputs": [
    {
     "name": "stdout",
     "output_type": "stream",
     "text": [
      "Training Accuracy : 97.60 %\n",
      "validation Accuracy : 98.66 %\n",
      "Test Accuracy : 96.00 %\n"
     ]
    }
   ],
   "source": [
    "train_accuracy = calc_accuracy_loader( train_loader , model , device )\n",
    "val_accuracy = calc_accuracy_loader( val_loader , model , device )\n",
    "test_accuracy = calc_accuracy_loader( test_loader , model , device )\n",
    "\n",
    "print( f\"Training Accuracy : { train_accuracy * 100 :.2f} %\")\n",
    "print( f\"validation Accuracy : { val_accuracy * 100 :.2f} %\")\n",
    "print( f\"Test Accuracy : { test_accuracy * 100 :.2f} %\")\n"
   ]
  },
  {
   "cell_type": "markdown",
   "metadata": {},
   "source": [
    "## Using the LLM as a Spam Classifier"
   ]
  },
  {
   "cell_type": "code",
   "execution_count": 128,
   "metadata": {},
   "outputs": [],
   "source": [
    "def classify_review( text , model , tokenizer , device , max_length = None  , pad_token_id = 50256 ):\n",
    "    model.eval()\n",
    "\n",
    "    # prepare input to the model \n",
    "    input_ids = tokenizer.encode( text )\n",
    "    supported_context_length = model.pos_emb.weight.shape[0]\n",
    "\n",
    "    # Truncate the sequence if it is too long \n",
    "    input_ids = input_ids[ :min( max_length , supported_context_length )]\n",
    "\n",
    "    #pad the sequence to the longest sequence \n",
    "    input_ids += [ pad_token_id ] * ( max_length - len( input_ids ))\n",
    "\n",
    "    input_tensor = torch.tensor( input_ids , device= device ).unsqueeze( 0 )\n",
    "\n",
    "    with torch.no_grad():\n",
    "        logits = model( input_tensor )[ :, -1 ,: ]\n",
    "    predicted_label = torch.argmax( logits , dim = -1 ).item()\n",
    "\n",
    "    return \"spam\" if predicted_label == 1 else \"not spam\"\n"
   ]
  },
  {
   "cell_type": "code",
   "execution_count": 129,
   "metadata": {},
   "outputs": [
    {
     "name": "stdout",
     "output_type": "stream",
     "text": [
      "spam\n"
     ]
    }
   ],
   "source": [
    "text1 = (\n",
    "    \"You are a winner you have been specially\"\n",
    "    \" selected to receive $1000 cash or a $2000 award.\"\n",
    ")\n",
    "\n",
    "print( classify_review(\n",
    "    text1 , model , tokenizer , device , max_length= train_dataset.max_length\n",
    "))"
   ]
  },
  {
   "cell_type": "code",
   "execution_count": 130,
   "metadata": {},
   "outputs": [
    {
     "name": "stdout",
     "output_type": "stream",
     "text": [
      "not spam\n"
     ]
    }
   ],
   "source": [
    "text2 = (\n",
    "    \"Hey, just wanted to check if we're still on\"\n",
    "    \" for dinner tonight? Let me know!\"\n",
    ")\n",
    "\n",
    "print(  classify_review(\n",
    "    text2 , model , tokenizer , device , max_length= train_dataset.max_length\n",
    "))"
   ]
  },
  {
   "cell_type": "code",
   "execution_count": 131,
   "metadata": {},
   "outputs": [],
   "source": [
    "torch.save( model.state_dict() , \"review_classifier.pth\")"
   ]
  },
  {
   "cell_type": "code",
   "execution_count": 132,
   "metadata": {},
   "outputs": [
    {
     "name": "stderr",
     "output_type": "stream",
     "text": [
      "/var/folders/n9/j8l4b0cj5zqdl0273gsv8jgh0000gn/T/ipykernel_51791/3826764412.py:1: FutureWarning: You are using `torch.load` with `weights_only=False` (the current default value), which uses the default pickle module implicitly. It is possible to construct malicious pickle data which will execute arbitrary code during unpickling (See https://github.com/pytorch/pytorch/blob/main/SECURITY.md#untrusted-models for more details). In a future release, the default value for `weights_only` will be flipped to `True`. This limits the functions that could be executed during unpickling. Arbitrary objects will no longer be allowed to be loaded via this mode unless they are explicitly allowlisted by the user via `torch.serialization.add_safe_globals`. We recommend you start setting `weights_only=True` for any use case where you don't have full control of the loaded file. Please open an issue on GitHub for any issues related to this experimental feature.\n",
      "  model_state_dict = torch. load(\"review_classifier.pth\")\n"
     ]
    },
    {
     "data": {
      "text/plain": [
       "<All keys matched successfully>"
      ]
     },
     "execution_count": 132,
     "metadata": {},
     "output_type": "execute_result"
    }
   ],
   "source": [
    "model_state_dict = torch. load(\"review_classifier.pth\")\n",
    "model. load_state_dict(model_state_dict)"
   ]
  }
 ],
 "metadata": {
  "kernelspec": {
   "display_name": "Python 3",
   "language": "python",
   "name": "python3"
  },
  "language_info": {
   "codemirror_mode": {
    "name": "ipython",
    "version": 3
   },
   "file_extension": ".py",
   "mimetype": "text/x-python",
   "name": "python",
   "nbconvert_exporter": "python",
   "pygments_lexer": "ipython3",
   "version": "3.12.1"
  }
 },
 "nbformat": 4,
 "nbformat_minor": 2
}
